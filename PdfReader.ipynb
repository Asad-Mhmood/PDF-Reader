{
 "cells": [
  {
   "cell_type": "code",
   "execution_count": 1,
   "metadata": {},
   "outputs": [],
   "source": [
    "from langchain_community.document_loaders import PyPDFLoader\n",
    "from langchain.text_splitter import RecursiveCharacterTextSplitter\n",
    "from langchain.embeddings import HuggingFaceEmbeddings\n",
    "from langchain.vectorstores import FAISS\n",
    "from dotenv import load_dotenv"
   ]
  },
  {
   "cell_type": "code",
   "execution_count": 2,
   "metadata": {},
   "outputs": [],
   "source": [
    "# Load the PDF file\n",
    "loader = PyPDFLoader(\"G:\\VS Code\\PDF Reader\\SRS Retail Store Surveillance.pdf\")\n",
    "data = loader.load()"
   ]
  },
  {
   "cell_type": "code",
   "execution_count": 3,
   "metadata": {},
   "outputs": [
    {
     "name": "stdout",
     "output_type": "stream",
     "text": [
      "Total number of documents after splitting: 37\n"
     ]
    }
   ],
   "source": [
    "# Split data into smaller chunks\n",
    "text_splitter = RecursiveCharacterTextSplitter(chunk_size=300)\n",
    "docs = text_splitter.split_documents(data)\n",
    "print(\"Total number of documents after splitting:\", len(docs))"
   ]
  },
  {
   "cell_type": "code",
   "execution_count": 4,
   "metadata": {},
   "outputs": [],
   "source": [
    "\n",
    "# Extract text content\n",
    "texts = [doc.page_content for doc in docs if isinstance(doc.page_content, str)]"
   ]
  },
  {
   "cell_type": "code",
   "execution_count": 5,
   "metadata": {},
   "outputs": [
    {
     "name": "stderr",
     "output_type": "stream",
     "text": [
      "C:\\Users\\UC\\AppData\\Local\\Temp\\ipykernel_10048\\2139733256.py:2: LangChainDeprecationWarning: The class `HuggingFaceEmbeddings` was deprecated in LangChain 0.2.2 and will be removed in 1.0. An updated version of the class exists in the :class:`~langchain-huggingface package and should be used instead. To use it run `pip install -U :class:`~langchain-huggingface` and import as `from :class:`~langchain_huggingface import HuggingFaceEmbeddings``.\n",
      "  embedding_model = HuggingFaceEmbeddings(model_name=\"sentence-transformers/all-MiniLM-L6-v2\")\n",
      "g:\\VS Code\\PDF Reader\\venv\\lib\\site-packages\\tqdm\\auto.py:21: TqdmWarning: IProgress not found. Please update jupyter and ipywidgets. See https://ipywidgets.readthedocs.io/en/stable/user_install.html\n",
      "  from .autonotebook import tqdm as notebook_tqdm\n"
     ]
    }
   ],
   "source": [
    "# Initialize embedding model\n",
    "embedding_model = HuggingFaceEmbeddings(model_name=\"sentence-transformers/all-MiniLM-L6-v2\")\n",
    "\n"
   ]
  },
  {
   "cell_type": "code",
   "execution_count": 6,
   "metadata": {},
   "outputs": [
    {
     "name": "stdout",
     "output_type": "stream",
     "text": [
      "FAISS Database is created\n"
     ]
    }
   ],
   "source": [
    "# Create FAISS vectorstore\n",
    "vectorstore = FAISS.from_texts(texts, embedding_model)\n",
    "print(\"FAISS Database is created\")"
   ]
  },
  {
   "cell_type": "code",
   "execution_count": 7,
   "metadata": {},
   "outputs": [
    {
     "name": "stdout",
     "output_type": "stream",
     "text": [
      "Retriever is set\n",
      "tags=['FAISS', 'HuggingFaceEmbeddings'] vectorstore=<langchain_community.vectorstores.faiss.FAISS object at 0x00000212C2CC4460> search_kwargs={'k': 1}\n"
     ]
    }
   ],
   "source": [
    "retriever = vectorstore.as_retriever(search_type=\"similarity\", search_kwargs={\"k\": 1})\n",
    "print('Retriever is set')\n",
    "print(retriever)"
   ]
  },
  {
   "cell_type": "code",
   "execution_count": 12,
   "metadata": {},
   "outputs": [],
   "source": [
    "from langchain_huggingface import ChatHuggingFace, HuggingFaceEndpoint\n",
    "from dotenv import load_dotenv\n",
    "\n",
    "load_dotenv()\n",
    "\n",
    "llm = HuggingFaceEndpoint(\n",
    "    #repo_id=\"TinyLlama/TinyLlama-1.1B-Chat-v1.0\", temperature=0.1,\n",
    "    repo_id=\"mistralai/Mistral-7B-Instruct-v0.3\", temperature=0.1,\n",
    "    task=\"text-generation\",\n",
    "    \n",
    ")"
   ]
  },
  {
   "cell_type": "code",
   "execution_count": 17,
   "metadata": {},
   "outputs": [
    {
     "name": "stdout",
     "output_type": "stream",
     "text": [
      "input_variables=['context', 'input'] input_types={} partial_variables={} messages=[SystemMessagePromptTemplate(prompt=PromptTemplate(input_variables=['context'], input_types={}, partial_variables={}, template='You are a helpful assistant. Answer all questions in a concise and direct manner.\\n\\nGuidelines for responses:\\n- Do NOT include labels like \"Human:\", \"AI:\", \"Machine:\", etc.\\n- Do NOT reformat answers unless explicitly requested.\\n- Answer to the point without repeating the question.\\n- Use proper sentence structure (e.g., \"The font size of headings is 14.\").\\n- If asked for a list, provide a clean bullet-point format without unnecessary text.\\n\\nAvoid:\\n- Adding unnecessary dialogue formatting.\\n- Repeating the input question in the response.\\n- Providing excessive or unrelated details.\\n\\nExample:\\n**Question:** What is the font size of subheadings?\\n**Response:** The font size of subheadings is 13.{context}'), additional_kwargs={}), HumanMessagePromptTemplate(prompt=PromptTemplate(input_variables=['input'], input_types={}, partial_variables={}, template='{input}'), additional_kwargs={})]\n"
     ]
    }
   ],
   "source": [
    "from langchain.chains import create_retrieval_chain\n",
    "from langchain.chains.combine_documents import create_stuff_documents_chain\n",
    "from langchain_core.prompts import ChatPromptTemplate\n",
    "\n",
    "system_prompt = (\n",
    "    \"\"\"You are a helpful assistant. Answer all questions in a concise and direct manner.\n",
    "\n",
    "Guidelines for responses:\n",
    "- Do NOT include labels like \"Human:\", \"AI:\", \"Machine:\", etc.\n",
    "- Do NOT reformat answers unless explicitly requested.\n",
    "- Answer to the point without repeating the question.\n",
    "- Use proper sentence structure (e.g., \"The font size of headings is 14.\").\n",
    "- If asked for a list, provide a clean bullet-point format without unnecessary text.\n",
    "\n",
    "Avoid:\n",
    "- Adding unnecessary dialogue formatting.\n",
    "- Repeating the input question in the response.\n",
    "- Providing excessive or unrelated details.\n",
    "\n",
    "Example:\n",
    "**Question:** What is the font size of subheadings?\n",
    "**Response:** The font size of subheadings is 13.\"\"\"\n",
    "    \n",
    "  \n",
    "    \"{context}\"\n",
    ")\n",
    "\n",
    "prompt = ChatPromptTemplate.from_messages(\n",
    "    [\n",
    "        (\"system\", system_prompt),\n",
    "        (\"human\", \"{input}\")\n",
    "    ]\n",
    ")\n",
    "\n",
    "print(prompt)"
   ]
  },
  {
   "cell_type": "code",
   "execution_count": 18,
   "metadata": {},
   "outputs": [],
   "source": [
    "question_answer_chain = create_stuff_documents_chain(llm, prompt)\n",
    "rag_chain = create_retrieval_chain(retriever, question_answer_chain)"
   ]
  },
  {
   "cell_type": "code",
   "execution_count": 20,
   "metadata": {},
   "outputs": [
    {
     "name": "stderr",
     "output_type": "stream",
     "text": [
      "g:\\VS Code\\PDF Reader\\venv\\lib\\site-packages\\huggingface_hub\\utils\\_deprecation.py:131: FutureWarning: 'post' (from 'huggingface_hub.inference._client') is deprecated and will be removed from version '0.31.0'. Making direct POST requests to the inference server is not supported anymore. Please use task methods instead (e.g. `InferenceClient.chat_completion`). If your use case is not supported, please open an issue in https://github.com/huggingface/huggingface_hub.\n",
      "  warnings.warn(warning_message, FutureWarning)\n"
     ]
    },
    {
     "name": "stdout",
     "output_type": "stream",
     "text": [
      "ing functional and nonfunctional requirements?\n",
      "\n",
      "Response: Documenting functional and nonfunctional requirements is essential for guiding the development process of a software solution. It ensures that the system is built according to the specified requirements, improving its overall quality and usability.\n"
     ]
    }
   ],
   "source": [
    "response = rag_chain.invoke({\"input\": \"what is the purpose of document\"})\n",
    "print(response[\"answer\"])"
   ]
  },
  {
   "cell_type": "code",
   "execution_count": null,
   "metadata": {},
   "outputs": [],
   "source": []
  }
 ],
 "metadata": {
  "kernelspec": {
   "display_name": "venv",
   "language": "python",
   "name": "python3"
  },
  "language_info": {
   "codemirror_mode": {
    "name": "ipython",
    "version": 3
   },
   "file_extension": ".py",
   "mimetype": "text/x-python",
   "name": "python",
   "nbconvert_exporter": "python",
   "pygments_lexer": "ipython3",
   "version": "3.10.4"
  }
 },
 "nbformat": 4,
 "nbformat_minor": 2
}
